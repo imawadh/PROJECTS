{
 "cells": [
  {
   "cell_type": "markdown",
   "id": "f1a0f288",
   "metadata": {},
   "source": [
    "# Exploratory Data Analysis Of Customer Travel Preferences and Behaviour "
   ]
  },
  {
   "cell_type": "code",
   "execution_count": 9,
   "id": "03d8120e",
   "metadata": {},
   "outputs": [],
   "source": [
    "import pandas as pd"
   ]
  },
  {
   "cell_type": "code",
   "execution_count": 10,
   "id": "309b7fe6",
   "metadata": {},
   "outputs": [],
   "source": [
    "import numpy as np"
   ]
  },
  {
   "cell_type": "code",
   "execution_count": 11,
   "id": "2a01778a",
   "metadata": {},
   "outputs": [],
   "source": [
    "project_data = pd.read_csv(\"Travel.csv\")"
   ]
  },
  {
   "cell_type": "markdown",
   "id": "a26e0d3c",
   "metadata": {},
   "source": [
    "# Qusetions and Solutions "
   ]
  },
  {
   "cell_type": "raw",
   "id": "1e7f474c",
   "metadata": {},
   "source": [
    "1. What is the distribution of customerages, and how does age relate to product purchase (ProdTaken)?"
   ]
  },
  {
   "cell_type": "code",
   "execution_count": 15,
   "id": "aa790d1e",
   "metadata": {},
   "outputs": [],
   "source": [
    "d_age = project_data['Age'].value_counts()"
   ]
  },
  {
   "cell_type": "code",
   "execution_count": 16,
   "id": "eda7e804",
   "metadata": {},
   "outputs": [
    {
     "data": {
      "text/plain": [
       "Age\n",
       "35.0    237\n",
       "36.0    231\n",
       "34.0    211\n",
       "31.0    203\n",
       "30.0    199\n",
       "32.0    197\n",
       "33.0    189\n",
       "37.0    185\n",
       "29.0    178\n",
       "38.0    176\n",
       "41.0    155\n",
       "39.0    150\n",
       "28.0    147\n",
       "40.0    146\n",
       "42.0    142\n",
       "27.0    138\n",
       "43.0    130\n",
       "46.0    121\n",
       "45.0    116\n",
       "26.0    106\n",
       "44.0    105\n",
       "51.0     90\n",
       "47.0     88\n",
       "50.0     86\n",
       "25.0     74\n",
       "52.0     68\n",
       "53.0     66\n",
       "48.0     65\n",
       "49.0     65\n",
       "55.0     64\n",
       "54.0     61\n",
       "56.0     58\n",
       "24.0     56\n",
       "22.0     46\n",
       "23.0     46\n",
       "59.0     44\n",
       "21.0     41\n",
       "20.0     38\n",
       "19.0     32\n",
       "58.0     31\n",
       "57.0     29\n",
       "60.0     29\n",
       "18.0     14\n",
       "61.0      9\n",
       "Name: count, dtype: int64"
      ]
     },
     "execution_count": 16,
     "metadata": {},
     "output_type": "execute_result"
    }
   ],
   "source": [
    "d_age"
   ]
  },
  {
   "cell_type": "code",
   "execution_count": 17,
   "id": "d4d07d46",
   "metadata": {},
   "outputs": [
    {
     "data": {
      "text/plain": [
       "Age\n",
       "18.0     14\n",
       "19.0     32\n",
       "20.0     38\n",
       "21.0     41\n",
       "22.0     46\n",
       "23.0     46\n",
       "24.0     56\n",
       "25.0     74\n",
       "26.0    106\n",
       "27.0    138\n",
       "28.0    147\n",
       "29.0    178\n",
       "30.0    199\n",
       "31.0    203\n",
       "32.0    197\n",
       "33.0    189\n",
       "34.0    211\n",
       "35.0    237\n",
       "36.0    231\n",
       "37.0    185\n",
       "38.0    176\n",
       "39.0    150\n",
       "40.0    146\n",
       "41.0    155\n",
       "42.0    142\n",
       "43.0    130\n",
       "44.0    105\n",
       "45.0    116\n",
       "46.0    121\n",
       "47.0     88\n",
       "48.0     65\n",
       "49.0     65\n",
       "50.0     86\n",
       "51.0     90\n",
       "52.0     68\n",
       "53.0     66\n",
       "54.0     61\n",
       "55.0     64\n",
       "56.0     58\n",
       "57.0     29\n",
       "58.0     31\n",
       "59.0     44\n",
       "60.0     29\n",
       "61.0      9\n",
       "Name: count, dtype: int64"
      ]
     },
     "execution_count": 17,
     "metadata": {},
     "output_type": "execute_result"
    }
   ],
   "source": [
    "d_age.sort_index()"
   ]
  },
  {
   "cell_type": "raw",
   "id": "890e548a",
   "metadata": {},
   "source": [
    "2. How does the type of contact(type of contact)influence the likelihood of purchasing a\n",
    "travel product?  "
   ]
  },
  {
   "cell_type": "code",
   "execution_count": 20,
   "id": "95eb0633",
   "metadata": {},
   "outputs": [],
   "source": [
    "relation = pd.pivot_table(project_data,values='ProdTaken', index='Age', aggfunc=np.sum)"
   ]
  },
  {
   "cell_type": "code",
   "execution_count": 21,
   "id": "dc32ed67",
   "metadata": {},
   "outputs": [
    {
     "data": {
      "text/html": [
       "<div>\n",
       "<style scoped>\n",
       "    .dataframe tbody tr th:only-of-type {\n",
       "        vertical-align: middle;\n",
       "    }\n",
       "\n",
       "    .dataframe tbody tr th {\n",
       "        vertical-align: top;\n",
       "    }\n",
       "\n",
       "    .dataframe thead th {\n",
       "        text-align: right;\n",
       "    }\n",
       "</style>\n",
       "<table border=\"1\" class=\"dataframe\">\n",
       "  <thead>\n",
       "    <tr style=\"text-align: right;\">\n",
       "      <th></th>\n",
       "      <th>ProdTaken</th>\n",
       "    </tr>\n",
       "    <tr>\n",
       "      <th>Age</th>\n",
       "      <th></th>\n",
       "    </tr>\n",
       "  </thead>\n",
       "  <tbody>\n",
       "    <tr>\n",
       "      <th>18.0</th>\n",
       "      <td>8</td>\n",
       "    </tr>\n",
       "    <tr>\n",
       "      <th>19.0</th>\n",
       "      <td>21</td>\n",
       "    </tr>\n",
       "    <tr>\n",
       "      <th>20.0</th>\n",
       "      <td>25</td>\n",
       "    </tr>\n",
       "    <tr>\n",
       "      <th>21.0</th>\n",
       "      <td>23</td>\n",
       "    </tr>\n",
       "    <tr>\n",
       "      <th>22.0</th>\n",
       "      <td>15</td>\n",
       "    </tr>\n",
       "    <tr>\n",
       "      <th>23.0</th>\n",
       "      <td>13</td>\n",
       "    </tr>\n",
       "    <tr>\n",
       "      <th>24.0</th>\n",
       "      <td>18</td>\n",
       "    </tr>\n",
       "    <tr>\n",
       "      <th>25.0</th>\n",
       "      <td>20</td>\n",
       "    </tr>\n",
       "    <tr>\n",
       "      <th>26.0</th>\n",
       "      <td>37</td>\n",
       "    </tr>\n",
       "    <tr>\n",
       "      <th>27.0</th>\n",
       "      <td>30</td>\n",
       "    </tr>\n",
       "    <tr>\n",
       "      <th>28.0</th>\n",
       "      <td>26</td>\n",
       "    </tr>\n",
       "    <tr>\n",
       "      <th>29.0</th>\n",
       "      <td>57</td>\n",
       "    </tr>\n",
       "    <tr>\n",
       "      <th>30.0</th>\n",
       "      <td>48</td>\n",
       "    </tr>\n",
       "    <tr>\n",
       "      <th>31.0</th>\n",
       "      <td>41</td>\n",
       "    </tr>\n",
       "    <tr>\n",
       "      <th>32.0</th>\n",
       "      <td>40</td>\n",
       "    </tr>\n",
       "    <tr>\n",
       "      <th>33.0</th>\n",
       "      <td>40</td>\n",
       "    </tr>\n",
       "    <tr>\n",
       "      <th>34.0</th>\n",
       "      <td>44</td>\n",
       "    </tr>\n",
       "    <tr>\n",
       "      <th>35.0</th>\n",
       "      <td>34</td>\n",
       "    </tr>\n",
       "    <tr>\n",
       "      <th>36.0</th>\n",
       "      <td>27</td>\n",
       "    </tr>\n",
       "    <tr>\n",
       "      <th>37.0</th>\n",
       "      <td>24</td>\n",
       "    </tr>\n",
       "    <tr>\n",
       "      <th>38.0</th>\n",
       "      <td>15</td>\n",
       "    </tr>\n",
       "    <tr>\n",
       "      <th>39.0</th>\n",
       "      <td>14</td>\n",
       "    </tr>\n",
       "    <tr>\n",
       "      <th>40.0</th>\n",
       "      <td>23</td>\n",
       "    </tr>\n",
       "    <tr>\n",
       "      <th>41.0</th>\n",
       "      <td>24</td>\n",
       "    </tr>\n",
       "    <tr>\n",
       "      <th>42.0</th>\n",
       "      <td>20</td>\n",
       "    </tr>\n",
       "    <tr>\n",
       "      <th>43.0</th>\n",
       "      <td>10</td>\n",
       "    </tr>\n",
       "    <tr>\n",
       "      <th>44.0</th>\n",
       "      <td>17</td>\n",
       "    </tr>\n",
       "    <tr>\n",
       "      <th>45.0</th>\n",
       "      <td>18</td>\n",
       "    </tr>\n",
       "    <tr>\n",
       "      <th>46.0</th>\n",
       "      <td>11</td>\n",
       "    </tr>\n",
       "    <tr>\n",
       "      <th>47.0</th>\n",
       "      <td>12</td>\n",
       "    </tr>\n",
       "    <tr>\n",
       "      <th>48.0</th>\n",
       "      <td>11</td>\n",
       "    </tr>\n",
       "    <tr>\n",
       "      <th>49.0</th>\n",
       "      <td>9</td>\n",
       "    </tr>\n",
       "    <tr>\n",
       "      <th>50.0</th>\n",
       "      <td>12</td>\n",
       "    </tr>\n",
       "    <tr>\n",
       "      <th>51.0</th>\n",
       "      <td>17</td>\n",
       "    </tr>\n",
       "    <tr>\n",
       "      <th>52.0</th>\n",
       "      <td>14</td>\n",
       "    </tr>\n",
       "    <tr>\n",
       "      <th>53.0</th>\n",
       "      <td>8</td>\n",
       "    </tr>\n",
       "    <tr>\n",
       "      <th>54.0</th>\n",
       "      <td>2</td>\n",
       "    </tr>\n",
       "    <tr>\n",
       "      <th>55.0</th>\n",
       "      <td>7</td>\n",
       "    </tr>\n",
       "    <tr>\n",
       "      <th>56.0</th>\n",
       "      <td>12</td>\n",
       "    </tr>\n",
       "    <tr>\n",
       "      <th>57.0</th>\n",
       "      <td>5</td>\n",
       "    </tr>\n",
       "    <tr>\n",
       "      <th>58.0</th>\n",
       "      <td>11</td>\n",
       "    </tr>\n",
       "    <tr>\n",
       "      <th>59.0</th>\n",
       "      <td>12</td>\n",
       "    </tr>\n",
       "    <tr>\n",
       "      <th>60.0</th>\n",
       "      <td>1</td>\n",
       "    </tr>\n",
       "    <tr>\n",
       "      <th>61.0</th>\n",
       "      <td>0</td>\n",
       "    </tr>\n",
       "  </tbody>\n",
       "</table>\n",
       "</div>"
      ],
      "text/plain": [
       "      ProdTaken\n",
       "Age            \n",
       "18.0          8\n",
       "19.0         21\n",
       "20.0         25\n",
       "21.0         23\n",
       "22.0         15\n",
       "23.0         13\n",
       "24.0         18\n",
       "25.0         20\n",
       "26.0         37\n",
       "27.0         30\n",
       "28.0         26\n",
       "29.0         57\n",
       "30.0         48\n",
       "31.0         41\n",
       "32.0         40\n",
       "33.0         40\n",
       "34.0         44\n",
       "35.0         34\n",
       "36.0         27\n",
       "37.0         24\n",
       "38.0         15\n",
       "39.0         14\n",
       "40.0         23\n",
       "41.0         24\n",
       "42.0         20\n",
       "43.0         10\n",
       "44.0         17\n",
       "45.0         18\n",
       "46.0         11\n",
       "47.0         12\n",
       "48.0         11\n",
       "49.0          9\n",
       "50.0         12\n",
       "51.0         17\n",
       "52.0         14\n",
       "53.0          8\n",
       "54.0          2\n",
       "55.0          7\n",
       "56.0         12\n",
       "57.0          5\n",
       "58.0         11\n",
       "59.0         12\n",
       "60.0          1\n",
       "61.0          0"
      ]
     },
     "execution_count": 21,
     "metadata": {},
     "output_type": "execute_result"
    }
   ],
   "source": [
    "relation"
   ]
  },
  {
   "cell_type": "code",
   "execution_count": 22,
   "id": "4804d10d",
   "metadata": {},
   "outputs": [
    {
     "data": {
      "text/html": [
       "<div>\n",
       "<style scoped>\n",
       "    .dataframe tbody tr th:only-of-type {\n",
       "        vertical-align: middle;\n",
       "    }\n",
       "\n",
       "    .dataframe tbody tr th {\n",
       "        vertical-align: top;\n",
       "    }\n",
       "\n",
       "    .dataframe thead th {\n",
       "        text-align: right;\n",
       "    }\n",
       "</style>\n",
       "<table border=\"1\" class=\"dataframe\">\n",
       "  <thead>\n",
       "    <tr style=\"text-align: right;\">\n",
       "      <th></th>\n",
       "      <th>ProdTaken</th>\n",
       "    </tr>\n",
       "    <tr>\n",
       "      <th>TypeofContact</th>\n",
       "      <th></th>\n",
       "    </tr>\n",
       "  </thead>\n",
       "  <tbody>\n",
       "    <tr>\n",
       "      <th>Company Invited</th>\n",
       "      <td>310</td>\n",
       "    </tr>\n",
       "    <tr>\n",
       "      <th>Self Enquiry</th>\n",
       "      <td>607</td>\n",
       "    </tr>\n",
       "  </tbody>\n",
       "</table>\n",
       "</div>"
      ],
      "text/plain": [
       "                 ProdTaken\n",
       "TypeofContact             \n",
       "Company Invited        310\n",
       "Self Enquiry           607"
      ]
     },
     "execution_count": 22,
     "metadata": {},
     "output_type": "execute_result"
    }
   ],
   "source": [
    "influence = pd.pivot_table(project_data, values='ProdTaken', index='TypeofContact', aggfunc=np.sum)\n",
    "influence"
   ]
  },
  {
   "cell_type": "raw",
   "id": "2096555f",
   "metadata": {},
   "source": [
    "3. Is there a correlation between the city tier(citytier)and monthly income (monthly\n",
    "income) of customers?\n"
   ]
  },
  {
   "cell_type": "code",
   "execution_count": 23,
   "id": "714ec6f3",
   "metadata": {},
   "outputs": [],
   "source": [
    "dataset = pd.read_csv(\"Travel.csv\")"
   ]
  },
  {
   "cell_type": "code",
   "execution_count": 25,
   "id": "fb44189c",
   "metadata": {},
   "outputs": [],
   "source": [
    "correlation = pd.pivot_table(dataset, values='MonthlyIncome', index='CityTier', aggfunc=np.sum)\n"
   ]
  },
  {
   "cell_type": "code",
   "execution_count": 26,
   "id": "f2046c89",
   "metadata": {},
   "outputs": [
    {
     "data": {
      "text/html": [
       "<div>\n",
       "<style scoped>\n",
       "    .dataframe tbody tr th:only-of-type {\n",
       "        vertical-align: middle;\n",
       "    }\n",
       "\n",
       "    .dataframe tbody tr th {\n",
       "        vertical-align: top;\n",
       "    }\n",
       "\n",
       "    .dataframe thead th {\n",
       "        text-align: right;\n",
       "    }\n",
       "</style>\n",
       "<table border=\"1\" class=\"dataframe\">\n",
       "  <thead>\n",
       "    <tr style=\"text-align: right;\">\n",
       "      <th></th>\n",
       "      <th>MonthlyIncome</th>\n",
       "    </tr>\n",
       "    <tr>\n",
       "      <th>CityTier</th>\n",
       "      <th></th>\n",
       "    </tr>\n",
       "  </thead>\n",
       "  <tbody>\n",
       "    <tr>\n",
       "      <th>1</th>\n",
       "      <td>70839753.0</td>\n",
       "    </tr>\n",
       "    <tr>\n",
       "      <th>2</th>\n",
       "      <td>4564447.0</td>\n",
       "    </tr>\n",
       "    <tr>\n",
       "      <th>3</th>\n",
       "      <td>34546218.0</td>\n",
       "    </tr>\n",
       "  </tbody>\n",
       "</table>\n",
       "</div>"
      ],
      "text/plain": [
       "          MonthlyIncome\n",
       "CityTier               \n",
       "1            70839753.0\n",
       "2             4564447.0\n",
       "3            34546218.0"
      ]
     },
     "execution_count": 26,
     "metadata": {},
     "output_type": "execute_result"
    }
   ],
   "source": [
    "correlation"
   ]
  },
  {
   "cell_type": "raw",
   "id": "9903d95e",
   "metadata": {},
   "source": [
    "4 . What is the average duration of a pitch (duration of pitch)for customers who\n",
    "purchased a product versus those who did not? \n"
   ]
  },
  {
   "cell_type": "code",
   "execution_count": 27,
   "id": "f4a4f276",
   "metadata": {},
   "outputs": [
    {
     "data": {
      "text/html": [
       "<div>\n",
       "<style scoped>\n",
       "    .dataframe tbody tr th:only-of-type {\n",
       "        vertical-align: middle;\n",
       "    }\n",
       "\n",
       "    .dataframe tbody tr th {\n",
       "        vertical-align: top;\n",
       "    }\n",
       "\n",
       "    .dataframe thead th {\n",
       "        text-align: right;\n",
       "    }\n",
       "</style>\n",
       "<table border=\"1\" class=\"dataframe\">\n",
       "  <thead>\n",
       "    <tr style=\"text-align: right;\">\n",
       "      <th></th>\n",
       "      <th>DurationOfPitch</th>\n",
       "    </tr>\n",
       "    <tr>\n",
       "      <th>ProductPitched</th>\n",
       "      <th></th>\n",
       "    </tr>\n",
       "  </thead>\n",
       "  <tbody>\n",
       "    <tr>\n",
       "      <th>Basic</th>\n",
       "      <td>15.194834</td>\n",
       "    </tr>\n",
       "    <tr>\n",
       "      <th>Deluxe</th>\n",
       "      <td>15.935839</td>\n",
       "    </tr>\n",
       "    <tr>\n",
       "      <th>King</th>\n",
       "      <td>12.100000</td>\n",
       "    </tr>\n",
       "    <tr>\n",
       "      <th>Standard</th>\n",
       "      <td>15.986505</td>\n",
       "    </tr>\n",
       "    <tr>\n",
       "      <th>Super Deluxe</th>\n",
       "      <td>16.230994</td>\n",
       "    </tr>\n",
       "  </tbody>\n",
       "</table>\n",
       "</div>"
      ],
      "text/plain": [
       "                DurationOfPitch\n",
       "ProductPitched                 \n",
       "Basic                 15.194834\n",
       "Deluxe                15.935839\n",
       "King                  12.100000\n",
       "Standard              15.986505\n",
       "Super Deluxe          16.230994"
      ]
     },
     "execution_count": 27,
     "metadata": {},
     "output_type": "execute_result"
    }
   ],
   "source": [
    "duration =  pd.pivot_table(dataset, values='DurationOfPitch', index='ProductPitched', aggfunc='mean')\n",
    "duration\n"
   ]
  },
  {
   "cell_type": "code",
   "execution_count": null,
   "id": "6ffc720b",
   "metadata": {},
   "outputs": [],
   "source": []
  },
  {
   "cell_type": "raw",
   "id": "51b37af7",
   "metadata": {},
   "source": [
    "5. How do occupation types(occupation)distribute among customers,"
   ]
  },
  {
   "cell_type": "code",
   "execution_count": 28,
   "id": "f26059e8",
   "metadata": {},
   "outputs": [
    {
     "data": {
      "text/plain": [
       "Occupation\n",
       "Free Lancer          2\n",
       "Large Business     434\n",
       "Salaried          2368\n",
       "Small Business    2084\n",
       "Name: CustomerID, dtype: int64"
      ]
     },
     "execution_count": 28,
     "metadata": {},
     "output_type": "execute_result"
    }
   ],
   "source": [
    "occupation=dataset.groupby(\"Occupation\")['CustomerID'].count()\n",
    "occupation"
   ]
  },
  {
   "cell_type": "code",
   "execution_count": null,
   "id": "45e3c6a6",
   "metadata": {},
   "outputs": [],
   "source": []
  },
  {
   "cell_type": "raw",
   "id": "3f100b9f",
   "metadata": {},
   "source": [
    "6. Are there any gender-based preferences for the type of product pitched\n",
    "(ProductPitched)? "
   ]
  },
  {
   "cell_type": "code",
   "execution_count": 29,
   "id": "ca47278d",
   "metadata": {},
   "outputs": [
    {
     "data": {
      "text/html": [
       "<div>\n",
       "<style scoped>\n",
       "    .dataframe tbody tr th:only-of-type {\n",
       "        vertical-align: middle;\n",
       "    }\n",
       "\n",
       "    .dataframe tbody tr th {\n",
       "        vertical-align: top;\n",
       "    }\n",
       "\n",
       "    .dataframe thead th {\n",
       "        text-align: right;\n",
       "    }\n",
       "</style>\n",
       "<table border=\"1\" class=\"dataframe\">\n",
       "  <thead>\n",
       "    <tr style=\"text-align: right;\">\n",
       "      <th></th>\n",
       "      <th>ProductPitched</th>\n",
       "    </tr>\n",
       "    <tr>\n",
       "      <th>Gender</th>\n",
       "      <th></th>\n",
       "    </tr>\n",
       "  </thead>\n",
       "  <tbody>\n",
       "    <tr>\n",
       "      <th>Fe Male</th>\n",
       "      <td>155</td>\n",
       "    </tr>\n",
       "    <tr>\n",
       "      <th>Female</th>\n",
       "      <td>1817</td>\n",
       "    </tr>\n",
       "    <tr>\n",
       "      <th>Male</th>\n",
       "      <td>2916</td>\n",
       "    </tr>\n",
       "  </tbody>\n",
       "</table>\n",
       "</div>"
      ],
      "text/plain": [
       "         ProductPitched\n",
       "Gender                 \n",
       "Fe Male             155\n",
       "Female             1817\n",
       "Male               2916"
      ]
     },
     "execution_count": 29,
     "metadata": {},
     "output_type": "execute_result"
    }
   ],
   "source": [
    "checking=pd.pivot_table(dataset, values='ProductPitched', index='Gender', aggfunc='count')\n",
    "checking"
   ]
  },
  {
   "cell_type": "code",
   "execution_count": null,
   "id": "4f7dbcf0",
   "metadata": {},
   "outputs": [],
   "source": []
  },
  {
   "cell_type": "raw",
   "id": "34837106",
   "metadata": {},
   "source": [
    "7. What is the relationship between the number of trips(number of trips)taken by a\n",
    "customer and their likelihood to purchase a new travel product?"
   ]
  },
  {
   "cell_type": "code",
   "execution_count": 30,
   "id": "a2233722",
   "metadata": {},
   "outputs": [
    {
     "data": {
      "text/html": [
       "<div>\n",
       "<style scoped>\n",
       "    .dataframe tbody tr th:only-of-type {\n",
       "        vertical-align: middle;\n",
       "    }\n",
       "\n",
       "    .dataframe tbody tr th {\n",
       "        vertical-align: top;\n",
       "    }\n",
       "\n",
       "    .dataframe thead th {\n",
       "        text-align: right;\n",
       "    }\n",
       "</style>\n",
       "<table border=\"1\" class=\"dataframe\">\n",
       "  <thead>\n",
       "    <tr style=\"text-align: right;\">\n",
       "      <th></th>\n",
       "      <th>ProdTaken</th>\n",
       "    </tr>\n",
       "    <tr>\n",
       "      <th>NumberOfTrips</th>\n",
       "      <th></th>\n",
       "    </tr>\n",
       "  </thead>\n",
       "  <tbody>\n",
       "    <tr>\n",
       "      <th>1.0</th>\n",
       "      <td>0.180645</td>\n",
       "    </tr>\n",
       "    <tr>\n",
       "      <th>2.0</th>\n",
       "      <td>0.204235</td>\n",
       "    </tr>\n",
       "    <tr>\n",
       "      <th>3.0</th>\n",
       "      <td>0.201112</td>\n",
       "    </tr>\n",
       "    <tr>\n",
       "      <th>4.0</th>\n",
       "      <td>0.127615</td>\n",
       "    </tr>\n",
       "    <tr>\n",
       "      <th>5.0</th>\n",
       "      <td>0.135371</td>\n",
       "    </tr>\n",
       "    <tr>\n",
       "      <th>6.0</th>\n",
       "      <td>0.198758</td>\n",
       "    </tr>\n",
       "    <tr>\n",
       "      <th>7.0</th>\n",
       "      <td>0.284404</td>\n",
       "    </tr>\n",
       "    <tr>\n",
       "      <th>8.0</th>\n",
       "      <td>0.276190</td>\n",
       "    </tr>\n",
       "    <tr>\n",
       "      <th>19.0</th>\n",
       "      <td>1.000000</td>\n",
       "    </tr>\n",
       "    <tr>\n",
       "      <th>20.0</th>\n",
       "      <td>1.000000</td>\n",
       "    </tr>\n",
       "    <tr>\n",
       "      <th>21.0</th>\n",
       "      <td>0.000000</td>\n",
       "    </tr>\n",
       "    <tr>\n",
       "      <th>22.0</th>\n",
       "      <td>0.000000</td>\n",
       "    </tr>\n",
       "  </tbody>\n",
       "</table>\n",
       "</div>"
      ],
      "text/plain": [
       "               ProdTaken\n",
       "NumberOfTrips           \n",
       "1.0             0.180645\n",
       "2.0             0.204235\n",
       "3.0             0.201112\n",
       "4.0             0.127615\n",
       "5.0             0.135371\n",
       "6.0             0.198758\n",
       "7.0             0.284404\n",
       "8.0             0.276190\n",
       "19.0            1.000000\n",
       "20.0            1.000000\n",
       "21.0            0.000000\n",
       "22.0            0.000000"
      ]
     },
     "execution_count": 30,
     "metadata": {},
     "output_type": "execute_result"
    }
   ],
   "source": [
    "relation=pd.pivot_table(dataset,values='ProdTaken',index='NumberOfTrips',aggfunc='mean')\n",
    "relation"
   ]
  },
  {
   "cell_type": "code",
   "execution_count": null,
   "id": "fc735c43",
   "metadata": {},
   "outputs": [],
   "source": []
  },
  {
   "cell_type": "code",
   "execution_count": null,
   "id": "4c49944a",
   "metadata": {},
   "outputs": [],
   "source": []
  },
  {
   "cell_type": "raw",
   "id": "3bd8977f",
   "metadata": {},
   "source": [
    "8. Does having a passport(passport)correlate with a higher number of trips taken or a\n",
    "higher likelihood of purchasing a travel product? \n"
   ]
  },
  {
   "cell_type": "code",
   "execution_count": 31,
   "id": "5eb6df7d",
   "metadata": {},
   "outputs": [
    {
     "data": {
      "text/plain": [
       "Passport\n",
       "0    3.221165\n",
       "1    3.273844\n",
       "Name: NumberOfTrips, dtype: float64"
      ]
     },
     "execution_count": 31,
     "metadata": {},
     "output_type": "execute_result"
    }
   ],
   "source": [
    "higher_number = dataset.groupby('Passport')['NumberOfTrips'].mean()\n",
    "higher_number"
   ]
  },
  {
   "cell_type": "code",
   "execution_count": null,
   "id": "8e85dc77",
   "metadata": {},
   "outputs": [],
   "source": []
  },
  {
   "cell_type": "raw",
   "id": "2b18682c",
   "metadata": {},
   "source": [
    "9. How satisfied are customers with the pitch (pitch satisfaction score),and does this\n",
    "satisfaction influence product purchase? "
   ]
  },
  {
   "cell_type": "code",
   "execution_count": 39,
   "id": "71559782",
   "metadata": {},
   "outputs": [
    {
     "data": {
      "text/plain": [
       "PitchSatisfactionScore\n",
       "1     942\n",
       "2     586\n",
       "3    1478\n",
       "4     912\n",
       "5     970\n",
       "Name: CustomerID, dtype: int64"
      ]
     },
     "execution_count": 39,
     "metadata": {},
     "output_type": "execute_result"
    }
   ],
   "source": [
    "satisfaction=dataset.groupby('PitchSatisfactionScore')['CustomerID'].count()\n",
    "satisfaction"
   ]
  },
  {
   "cell_type": "code",
   "execution_count": null,
   "id": "e3a93069",
   "metadata": {},
   "outputs": [],
   "source": []
  },
  {
   "cell_type": "raw",
   "id": "dd95d07d",
   "metadata": {},
   "source": [
    "10. Among customers with children (number of children visiting), how does the number\n",
    "of children impact travel product purchases? \n"
   ]
  },
  {
   "cell_type": "code",
   "execution_count": 38,
   "id": "1a52a41f",
   "metadata": {},
   "outputs": [
    {
     "data": {
      "text/plain": [
       "NumberOfChildrenVisiting\n",
       "0.0    0.186691\n",
       "1.0    0.188462\n",
       "2.0    0.189513\n",
       "3.0    0.203077\n",
       "Name: ProdTaken, dtype: float64"
      ]
     },
     "execution_count": 38,
     "metadata": {},
     "output_type": "execute_result"
    }
   ],
   "source": [
    "number_of_children=dataset.groupby('NumberOfChildrenVisiting')['ProdTaken'].mean()\n",
    "number_of_children"
   ]
  },
  {
   "cell_type": "raw",
   "id": "c2c4a2a3",
   "metadata": {},
   "source": [
    "11. Gender preferences for product types: how does gender influence the preference for\n",
    "different types of travel products pitched (product pitched)? "
   ]
  },
  {
   "cell_type": "code",
   "execution_count": 37,
   "id": "407245b2",
   "metadata": {},
   "outputs": [
    {
     "data": {
      "text/html": [
       "<div>\n",
       "<style scoped>\n",
       "    .dataframe tbody tr th:only-of-type {\n",
       "        vertical-align: middle;\n",
       "    }\n",
       "\n",
       "    .dataframe tbody tr th {\n",
       "        vertical-align: top;\n",
       "    }\n",
       "\n",
       "    .dataframe thead th {\n",
       "        text-align: right;\n",
       "    }\n",
       "</style>\n",
       "<table border=\"1\" class=\"dataframe\">\n",
       "  <thead>\n",
       "    <tr style=\"text-align: right;\">\n",
       "      <th>ProductPitched</th>\n",
       "      <th>Basic</th>\n",
       "      <th>Deluxe</th>\n",
       "      <th>King</th>\n",
       "      <th>Standard</th>\n",
       "      <th>Super Deluxe</th>\n",
       "    </tr>\n",
       "    <tr>\n",
       "      <th>Gender</th>\n",
       "      <th></th>\n",
       "      <th></th>\n",
       "      <th></th>\n",
       "      <th></th>\n",
       "      <th></th>\n",
       "    </tr>\n",
       "  </thead>\n",
       "  <tbody>\n",
       "    <tr>\n",
       "      <th>Fe Male</th>\n",
       "      <td>4</td>\n",
       "      <td>83</td>\n",
       "      <td>0</td>\n",
       "      <td>63</td>\n",
       "      <td>5</td>\n",
       "    </tr>\n",
       "    <tr>\n",
       "      <th>Female</th>\n",
       "      <td>676</td>\n",
       "      <td>641</td>\n",
       "      <td>82</td>\n",
       "      <td>263</td>\n",
       "      <td>155</td>\n",
       "    </tr>\n",
       "    <tr>\n",
       "      <th>Male</th>\n",
       "      <td>1162</td>\n",
       "      <td>1008</td>\n",
       "      <td>148</td>\n",
       "      <td>416</td>\n",
       "      <td>182</td>\n",
       "    </tr>\n",
       "  </tbody>\n",
       "</table>\n",
       "</div>"
      ],
      "text/plain": [
       "ProductPitched  Basic  Deluxe  King  Standard  Super Deluxe\n",
       "Gender                                                     \n",
       "Fe Male             4      83     0        63             5\n",
       "Female            676     641    82       263           155\n",
       "Male             1162    1008   148       416           182"
      ]
     },
     "execution_count": 37,
     "metadata": {},
     "output_type": "execute_result"
    }
   ],
   "source": [
    "\n",
    "product = pd.pivot_table(dataset, index='Gender', columns='ProductPitched', aggfunc='size', fill_value=0)\n",
    "product"
   ]
  },
  {
   "cell_type": "code",
   "execution_count": null,
   "id": "05210513",
   "metadata": {},
   "outputs": [],
   "source": []
  },
  {
   "cell_type": "raw",
   "id": "32317a8f",
   "metadata": {},
   "source": [
    "Impact of marital status on travel preferences: does marital status affect the choice of\n",
    "travel product, and if so, how do different marital statuses correl"
   ]
  },
  {
   "cell_type": "code",
   "execution_count": 35,
   "id": "f782ca30",
   "metadata": {},
   "outputs": [
    {
     "data": {
      "text/html": [
       "<div>\n",
       "<style scoped>\n",
       "    .dataframe tbody tr th:only-of-type {\n",
       "        vertical-align: middle;\n",
       "    }\n",
       "\n",
       "    .dataframe tbody tr th {\n",
       "        vertical-align: top;\n",
       "    }\n",
       "\n",
       "    .dataframe thead th {\n",
       "        text-align: right;\n",
       "    }\n",
       "</style>\n",
       "<table border=\"1\" class=\"dataframe\">\n",
       "  <thead>\n",
       "    <tr style=\"text-align: right;\">\n",
       "      <th>ProductPitched</th>\n",
       "      <th>Basic</th>\n",
       "      <th>Deluxe</th>\n",
       "      <th>King</th>\n",
       "      <th>Standard</th>\n",
       "      <th>Super Deluxe</th>\n",
       "    </tr>\n",
       "    <tr>\n",
       "      <th>MaritalStatus</th>\n",
       "      <th></th>\n",
       "      <th></th>\n",
       "      <th></th>\n",
       "      <th></th>\n",
       "      <th></th>\n",
       "    </tr>\n",
       "  </thead>\n",
       "  <tbody>\n",
       "    <tr>\n",
       "      <th>Divorced</th>\n",
       "      <td>332</td>\n",
       "      <td>336</td>\n",
       "      <td>52</td>\n",
       "      <td>142</td>\n",
       "      <td>88</td>\n",
       "    </tr>\n",
       "    <tr>\n",
       "      <th>Married</th>\n",
       "      <td>816</td>\n",
       "      <td>852</td>\n",
       "      <td>126</td>\n",
       "      <td>380</td>\n",
       "      <td>166</td>\n",
       "    </tr>\n",
       "    <tr>\n",
       "      <th>Single</th>\n",
       "      <td>511</td>\n",
       "      <td>221</td>\n",
       "      <td>52</td>\n",
       "      <td>50</td>\n",
       "      <td>82</td>\n",
       "    </tr>\n",
       "    <tr>\n",
       "      <th>Unmarried</th>\n",
       "      <td>183</td>\n",
       "      <td>323</td>\n",
       "      <td>0</td>\n",
       "      <td>170</td>\n",
       "      <td>6</td>\n",
       "    </tr>\n",
       "  </tbody>\n",
       "</table>\n",
       "</div>"
      ],
      "text/plain": [
       "ProductPitched  Basic  Deluxe  King  Standard  Super Deluxe\n",
       "MaritalStatus                                              \n",
       "Divorced          332     336    52       142            88\n",
       "Married           816     852   126       380           166\n",
       "Single            511     221    52        50            82\n",
       "Unmarried         183     323     0       170             6"
      ]
     },
     "execution_count": 35,
     "metadata": {},
     "output_type": "execute_result"
    }
   ],
   "source": [
    "marital = pd.pivot_table(dataset, index='MaritalStatus', columns='ProductPitched', aggfunc='size', fill_value=0)\n",
    "marital"
   ]
  },
  {
   "cell_type": "code",
   "execution_count": null,
   "id": "4433b064",
   "metadata": {},
   "outputs": [],
   "source": []
  },
  {
   "cell_type": "code",
   "execution_count": null,
   "id": "09aa2e40",
   "metadata": {},
   "outputs": [],
   "source": []
  }
 ],
 "metadata": {
  "kernelspec": {
   "display_name": "Python 3 (ipykernel)",
   "language": "python",
   "name": "python3"
  },
  "language_info": {
   "codemirror_mode": {
    "name": "ipython",
    "version": 3
   },
   "file_extension": ".py",
   "mimetype": "text/x-python",
   "name": "python",
   "nbconvert_exporter": "python",
   "pygments_lexer": "ipython3",
   "version": "3.11.5"
  }
 },
 "nbformat": 4,
 "nbformat_minor": 5
}
